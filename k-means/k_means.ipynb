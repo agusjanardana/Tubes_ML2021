{
  "nbformat": 4,
  "nbformat_minor": 0,
  "metadata": {
    "colab": {
      "name": "k-means.ipynb",
      "provenance": [],
      "collapsed_sections": [
        "iderK27WMnFX",
        "_AbQCw6ICWM2",
        "ks5MkBHjOIj2",
        "pHewr3Img547"
      ]
    },
    "kernelspec": {
      "name": "python3",
      "display_name": "Python 3"
    },
    "language_info": {
      "name": "python"
    }
  },
  "cells": [
    {
      "cell_type": "code",
      "metadata": {
        "id": "F0QbBhCGC9K2"
      },
      "source": [
        "# Inisialisasi kebutuhan library\n",
        "import pandas as pd\n",
        "import io\n",
        "import matplotlib.pyplot as plt\n",
        "import numpy as np\n",
        "import random\n",
        "import math\n",
        "import seaborn as sns; sns.set()\n",
        "from scipy.stats import pearsonr\n",
        "from scipy.spatial.distance import cdist\n",
        "\n",
        "\n",
        "\n",
        "from google.colab import files"
      ],
      "execution_count": null,
      "outputs": []
    },
    {
      "cell_type": "markdown",
      "metadata": {
        "id": "1-Chcyg8Osu1"
      },
      "source": [
        "# Tubes Pembelajaran Mesin\n",
        "Unserpervised Learning , K-Means Clustering.\n",
        "Oleh I Gde Bagus Janardana Abasan ( 1301190061 ) Kelas IF-43-06. Tugas ini adalah mengelompokkan pelanggan berdasarkan data pelanggan tanpa memperhatikan label kelas apakah pelanggan tertarik untuk membeli kendaraan baru atau tidak."
      ]
    },
    {
      "cell_type": "markdown",
      "metadata": {
        "id": "1nF9MGekLBBx"
      },
      "source": [
        "# DATA EXPLORATION\n",
        "---\n"
      ]
    },
    {
      "cell_type": "markdown",
      "metadata": {
        "id": "iderK27WMnFX"
      },
      "source": [
        "## ***import dataset***"
      ]
    },
    {
      "cell_type": "code",
      "metadata": {
        "colab": {
          "base_uri": "https://localhost:8080/",
          "height": 200
        },
        "id": "nxARkkOYLKGB",
        "outputId": "da632c70-b976-4c6c-b99b-7742cf19b9ca"
      },
      "source": [
        "# import dataset from github\n",
        "df = pd.read_excel('https://github.com/agusjanardana/Tubes_ML2021/blob/main/k-means/Datasets/kendaraan_train.xlsx/?raw=true')\n",
        "df.head(5)"
      ],
      "execution_count": null,
      "outputs": [
        {
          "output_type": "execute_result",
          "data": {
            "text/html": [
              "<div>\n",
              "<style scoped>\n",
              "    .dataframe tbody tr th:only-of-type {\n",
              "        vertical-align: middle;\n",
              "    }\n",
              "\n",
              "    .dataframe tbody tr th {\n",
              "        vertical-align: top;\n",
              "    }\n",
              "\n",
              "    .dataframe thead th {\n",
              "        text-align: right;\n",
              "    }\n",
              "</style>\n",
              "<table border=\"1\" class=\"dataframe\">\n",
              "  <thead>\n",
              "    <tr style=\"text-align: right;\">\n",
              "      <th></th>\n",
              "      <th>id</th>\n",
              "      <th>Jenis_Kelamin</th>\n",
              "      <th>Umur</th>\n",
              "      <th>SIM</th>\n",
              "      <th>Kode_Daerah</th>\n",
              "      <th>Sudah_Asuransi</th>\n",
              "      <th>Umur_Kendaraan</th>\n",
              "      <th>Kendaraan_Rusak</th>\n",
              "      <th>Premi</th>\n",
              "      <th>Kanal_Penjualan</th>\n",
              "      <th>Lama_Berlangganan</th>\n",
              "      <th>Tertarik</th>\n",
              "    </tr>\n",
              "  </thead>\n",
              "  <tbody>\n",
              "    <tr>\n",
              "      <th>0</th>\n",
              "      <td>1</td>\n",
              "      <td>Wanita</td>\n",
              "      <td>30.0</td>\n",
              "      <td>1.0</td>\n",
              "      <td>33.0</td>\n",
              "      <td>1.0</td>\n",
              "      <td>&lt; 1 Tahun</td>\n",
              "      <td>Tidak</td>\n",
              "      <td>28029.0</td>\n",
              "      <td>152.0</td>\n",
              "      <td>97.0</td>\n",
              "      <td>0</td>\n",
              "    </tr>\n",
              "    <tr>\n",
              "      <th>1</th>\n",
              "      <td>2</td>\n",
              "      <td>Pria</td>\n",
              "      <td>48.0</td>\n",
              "      <td>1.0</td>\n",
              "      <td>39.0</td>\n",
              "      <td>0.0</td>\n",
              "      <td>&gt; 2 Tahun</td>\n",
              "      <td>Pernah</td>\n",
              "      <td>25800.0</td>\n",
              "      <td>29.0</td>\n",
              "      <td>158.0</td>\n",
              "      <td>0</td>\n",
              "    </tr>\n",
              "    <tr>\n",
              "      <th>2</th>\n",
              "      <td>3</td>\n",
              "      <td>NaN</td>\n",
              "      <td>21.0</td>\n",
              "      <td>1.0</td>\n",
              "      <td>46.0</td>\n",
              "      <td>1.0</td>\n",
              "      <td>&lt; 1 Tahun</td>\n",
              "      <td>Tidak</td>\n",
              "      <td>32733.0</td>\n",
              "      <td>160.0</td>\n",
              "      <td>119.0</td>\n",
              "      <td>0</td>\n",
              "    </tr>\n",
              "    <tr>\n",
              "      <th>3</th>\n",
              "      <td>4</td>\n",
              "      <td>Wanita</td>\n",
              "      <td>58.0</td>\n",
              "      <td>1.0</td>\n",
              "      <td>48.0</td>\n",
              "      <td>0.0</td>\n",
              "      <td>1-2 Tahun</td>\n",
              "      <td>Tidak</td>\n",
              "      <td>2630.0</td>\n",
              "      <td>124.0</td>\n",
              "      <td>63.0</td>\n",
              "      <td>0</td>\n",
              "    </tr>\n",
              "    <tr>\n",
              "      <th>4</th>\n",
              "      <td>5</td>\n",
              "      <td>Pria</td>\n",
              "      <td>50.0</td>\n",
              "      <td>1.0</td>\n",
              "      <td>35.0</td>\n",
              "      <td>0.0</td>\n",
              "      <td>&gt; 2 Tahun</td>\n",
              "      <td>NaN</td>\n",
              "      <td>34857.0</td>\n",
              "      <td>88.0</td>\n",
              "      <td>194.0</td>\n",
              "      <td>0</td>\n",
              "    </tr>\n",
              "  </tbody>\n",
              "</table>\n",
              "</div>"
            ],
            "text/plain": [
              "   id Jenis_Kelamin  Umur  ...  Kanal_Penjualan  Lama_Berlangganan  Tertarik\n",
              "0   1        Wanita  30.0  ...            152.0               97.0         0\n",
              "1   2          Pria  48.0  ...             29.0              158.0         0\n",
              "2   3           NaN  21.0  ...            160.0              119.0         0\n",
              "3   4        Wanita  58.0  ...            124.0               63.0         0\n",
              "4   5          Pria  50.0  ...             88.0              194.0         0\n",
              "\n",
              "[5 rows x 12 columns]"
            ]
          },
          "metadata": {},
          "execution_count": 2
        }
      ]
    },
    {
      "cell_type": "code",
      "metadata": {
        "colab": {
          "base_uri": "https://localhost:8080/"
        },
        "id": "dBe3kMnQmFIF",
        "outputId": "d06cbbf9-0195-4fd2-80b6-33d3fd96b2f4"
      },
      "source": [
        "df.dtypes"
      ],
      "execution_count": null,
      "outputs": [
        {
          "output_type": "execute_result",
          "data": {
            "text/plain": [
              "id                     int64\n",
              "Jenis_Kelamin         object\n",
              "Umur                 float64\n",
              "SIM                  float64\n",
              "Kode_Daerah          float64\n",
              "Sudah_Asuransi       float64\n",
              "Umur_Kendaraan        object\n",
              "Kendaraan_Rusak       object\n",
              "Premi                float64\n",
              "Kanal_Penjualan      float64\n",
              "Lama_Berlangganan    float64\n",
              "Tertarik               int64\n",
              "dtype: object"
            ]
          },
          "metadata": {},
          "execution_count": 3
        }
      ]
    },
    {
      "cell_type": "code",
      "metadata": {
        "colab": {
          "base_uri": "https://localhost:8080/"
        },
        "id": "W-GllD7kMpng",
        "outputId": "eac34818-3669-4935-929d-200855236991"
      },
      "source": [
        "df.shape"
      ],
      "execution_count": null,
      "outputs": [
        {
          "output_type": "execute_result",
          "data": {
            "text/plain": [
              "(285831, 12)"
            ]
          },
          "metadata": {},
          "execution_count": 4
        }
      ]
    },
    {
      "cell_type": "code",
      "metadata": {
        "colab": {
          "base_uri": "https://localhost:8080/"
        },
        "id": "_nXQjbQ3Mwy0",
        "outputId": "79fafdd6-e7ec-4518-e32c-c20f5e809696"
      },
      "source": [
        "df.index"
      ],
      "execution_count": null,
      "outputs": [
        {
          "output_type": "execute_result",
          "data": {
            "text/plain": [
              "RangeIndex(start=0, stop=285831, step=1)"
            ]
          },
          "metadata": {},
          "execution_count": 5
        }
      ]
    },
    {
      "cell_type": "code",
      "metadata": {
        "colab": {
          "base_uri": "https://localhost:8080/"
        },
        "id": "seLW14cFM1o4",
        "outputId": "1e96fa57-4d59-407f-d34f-35d67a0b08e0"
      },
      "source": [
        "df.columns"
      ],
      "execution_count": null,
      "outputs": [
        {
          "output_type": "execute_result",
          "data": {
            "text/plain": [
              "Index(['id', 'Jenis_Kelamin', 'Umur', 'SIM', 'Kode_Daerah', 'Sudah_Asuransi',\n",
              "       'Umur_Kendaraan', 'Kendaraan_Rusak', 'Premi', 'Kanal_Penjualan',\n",
              "       'Lama_Berlangganan', 'Tertarik'],\n",
              "      dtype='object')"
            ]
          },
          "metadata": {},
          "execution_count": 6
        }
      ]
    },
    {
      "cell_type": "code",
      "metadata": {
        "colab": {
          "base_uri": "https://localhost:8080/"
        },
        "id": "RkfDJ-caNKc5",
        "outputId": "d577a5ca-c631-4764-8de7-3cda07cc7102"
      },
      "source": [
        "# check any value null in dataset\n",
        "df.isnull().sum()"
      ],
      "execution_count": null,
      "outputs": [
        {
          "output_type": "execute_result",
          "data": {
            "text/plain": [
              "id                       0\n",
              "Jenis_Kelamin        14440\n",
              "Umur                 14214\n",
              "SIM                  14404\n",
              "Kode_Daerah          14306\n",
              "Sudah_Asuransi       14229\n",
              "Umur_Kendaraan       14275\n",
              "Kendaraan_Rusak      14188\n",
              "Premi                14569\n",
              "Kanal_Penjualan      14299\n",
              "Lama_Berlangganan    13992\n",
              "Tertarik                 0\n",
              "dtype: int64"
            ]
          },
          "metadata": {},
          "execution_count": 7
        }
      ]
    },
    {
      "cell_type": "code",
      "metadata": {
        "id": "vT3KM2oyxknR"
      },
      "source": [
        "# drop tabel id dan tertarik, sesuai yang diarahkan di soal.\n",
        "df = df.drop(columns=['id', 'Tertarik'])"
      ],
      "execution_count": null,
      "outputs": []
    },
    {
      "cell_type": "markdown",
      "metadata": {
        "id": "_AbQCw6ICWM2"
      },
      "source": [
        "## **Checking outlier and handle it !**"
      ]
    },
    {
      "cell_type": "code",
      "metadata": {
        "id": "5Go1JvuwCaSq"
      },
      "source": [
        "# Mendeteksi outlier sebenarnya ada banyak cara, disini saya memakai cara IQR ( Inter Quantile Range ) dan memanfaatkan boxplot untuk visualisasinya\n",
        "# untuk code saya mengambil referensi dari internet dengan beberapa modifikasi, karena pendeteksi outlier code nya itu itu saja sejauh ini.\n",
        "outliers = []\n",
        "def detect_outliers_iqr(data):\n",
        "  data = sorted(data)\n",
        "  Q1 = np.nanpercentile(data,25)\n",
        "  Q3 = np.nanpercentile(data,75)\n",
        "  # print(Q1,Q3)\n",
        "  IQR = Q3-Q1\n",
        "  lower_bound = Q1 - (1.5*IQR)\n",
        "  upper_bound = Q3 + (1.5*IQR)\n",
        "  # print(lower_bound, upper_bound)\n",
        "  isOutlier = ((data < lower_bound) | (data > upper_bound)).sum()\n",
        "  # if (data < lower_bound or data > upper_bound):\n",
        "  #   outliers.append(data)\n",
        "  print(\"Outlier: \" , isOutlier)\n",
        "  \n"
      ],
      "execution_count": null,
      "outputs": []
    },
    {
      "cell_type": "code",
      "metadata": {
        "colab": {
          "base_uri": "https://localhost:8080/"
        },
        "id": "NaJIVcG-HoLt",
        "outputId": "71dc83e1-4149-41bc-e0ee-4ca9590c3769"
      },
      "source": [
        "for c in df.columns:\n",
        "  if df[c].dtypes == 'object' or c == 'id' or c =='Tertarik':\n",
        "    pass\n",
        "  else:\n",
        "    plt.figure(figsize=(15,15))\n",
        "    ax = plt.subplot(211)\n",
        "    sns.boxplot(data=df, x=c, color='tab:blue')\n",
        "    plt.text(x = 0, y = 1, transform=ax.transAxes, s=f\"{detect_outliers_iqr(df[c])}\")\n",
        "    plt.show()\n"
      ],
      "execution_count": null,
      "outputs": [
        {
          "output_type": "stream",
          "name": "stdout",
          "text": [
            "Outlier:  0\n"
          ]
        },
        {
          "output_type": "display_data",
          "data": {
            "image/png": "[encoded data removed]",
            "text/plain": [
              "<Figure size 1080x1080 with 1 Axes>"
            ]
          },
          "metadata": {
            "needs_background": "light"
          }
        },
        {
          "output_type": "stream",
          "name": "stdout",
          "text": [
            "Outlier:  584\n"
          ]
        },
        {
          "output_type": "display_data",
          "data": {
            "image/png": "[encoded data removed]",
            "text/plain": [
              "<Figure size 1080x1080 with 1 Axes>"
            ]
          },
          "metadata": {
            "needs_background": "light"
          }
        },
        {
          "output_type": "stream",
          "name": "stdout",
          "text": [
            "Outlier:  0\n"
          ]
        },
        {
          "output_type": "display_data",
          "data": {
            "image/png": "[encoded data removed]",
            "text/plain": [
              "<Figure size 1080x1080 with 1 Axes>"
            ]
          },
          "metadata": {
            "needs_background": "light"
          }
        },
        {
          "output_type": "stream",
          "name": "stdout",
          "text": [
            "Outlier:  0\n"
          ]
        },
        {
          "output_type": "display_data",
          "data": {
            "image/png": "[encoded data removed]",
            "text/plain": [
              "<Figure size 1080x1080 with 1 Axes>"
            ]
          },
          "metadata": {
            "needs_background": "light"
          }
        },
        {
          "output_type": "stream",
          "name": "stdout",
          "text": [
            "Outlier:  7328\n"
          ]
        },
        {
          "output_type": "display_data",
          "data": {
            "image/png": "[encoded data removed]",
            "text/plain": [
              "<Figure size 1080x1080 with 1 Axes>"
            ]
          },
          "metadata": {
            "needs_background": "light"
          }
        },
        {
          "output_type": "stream",
          "name": "stdout",
          "text": [
            "Outlier:  0\n"
          ]
        },
        {
          "output_type": "display_data",
          "data": {
            "image/png": "[encoded data removed]",
            "text/plain": [
              "<Figure size 1080x1080 with 1 Axes>"
            ]
          },
          "metadata": {
            "needs_background": "light"
          }
        },
        {
          "output_type": "stream",
          "name": "stdout",
          "text": [
            "Outlier:  0\n"
          ]
        },
        {
          "output_type": "display_data",
          "data": {
            "image/png": "[encoded data removed]",
            "text/plain": [
              "<Figure size 1080x1080 with 1 Axes>"
            ]
          },
          "metadata": {
            "needs_background": "light"
          }
        }
      ]
    },
    {
      "cell_type": "code",
      "metadata": {
        "id": "am6pncnwTh__"
      },
      "source": [
        "# code berikut untuk handling\n",
        "# Saya menggunakan teknik Quantile based flooring and capping, dimana teknik ini memanfaatkan value untuk membulatkan as example\n",
        "# contoh : value di atas 90 percentile, di bulatkan ke 90, value di bawah 10 percentile, dibulatkan ke 10\n",
        "tenth_percentile = np.nanpercentile(df['Premi'], 10)\n",
        "nine_percentil = np.nanpercentile(df['Premi'], 90)\n",
        "\n",
        "df['Premi'] = np.where(df['Premi'] < tenth_percentile, tenth_percentile, df['Premi'])\n",
        "df['Premi'] = np.where(df['Premi'] > nine_percentil, nine_percentil, df['Premi'])\n"
      ],
      "execution_count": null,
      "outputs": []
    },
    {
      "cell_type": "code",
      "metadata": {
        "colab": {
          "base_uri": "https://localhost:8080/"
        },
        "id": "7rXJ1h2CYI_b",
        "outputId": "6ace4ea3-ca6c-435a-ad11-c019a501a82a"
      },
      "source": [
        "# checking lagi\n",
        "plt.figure(figsize=(15,15))\n",
        "ax = plt.subplot(221)\n",
        "sns.boxplot(data=df['Premi'], color='tab:blue')\n",
        "plt.text(x = 0, y = 1, transform=ax.transAxes, s=f\"{detect_outliers_iqr(df['Premi'])}\")\n",
        "plt.show()"
      ],
      "execution_count": null,
      "outputs": [
        {
          "output_type": "stream",
          "name": "stdout",
          "text": [
            "Outlier:  0\n"
          ]
        },
        {
          "output_type": "display_data",
          "data": {
            "image/png": "[encoded data removed]",
            "text/plain": [
              "<Figure size 1080x1080 with 1 Axes>"
            ]
          },
          "metadata": {
            "needs_background": "light"
          }
        }
      ]
    },
    {
      "cell_type": "code",
      "metadata": {
        "colab": {
          "base_uri": "https://localhost:8080/"
        },
        "id": "M8JxqlKwP_bp",
        "outputId": "942c7a21-10ae-4884-8148-2394cc8ab972"
      },
      "source": [
        "df.info()"
      ],
      "execution_count": null,
      "outputs": [
        {
          "output_type": "stream",
          "name": "stdout",
          "text": [
            "<class 'pandas.core.frame.DataFrame'>\n",
            "RangeIndex: 285831 entries, 0 to 285830\n",
            "Data columns (total 10 columns):\n",
            " #   Column             Non-Null Count   Dtype  \n",
            "---  ------             --------------   -----  \n",
            " 0   Jenis_Kelamin      271391 non-null  object \n",
            " 1   Umur               271617 non-null  float64\n",
            " 2   SIM                271427 non-null  float64\n",
            " 3   Kode_Daerah        271525 non-null  float64\n",
            " 4   Sudah_Asuransi     271602 non-null  float64\n",
            " 5   Umur_Kendaraan     271556 non-null  object \n",
            " 6   Kendaraan_Rusak    271643 non-null  object \n",
            " 7   Premi              271262 non-null  float64\n",
            " 8   Kanal_Penjualan    271532 non-null  float64\n",
            " 9   Lama_Berlangganan  271839 non-null  float64\n",
            "dtypes: float64(7), object(3)\n",
            "memory usage: 21.8+ MB\n"
          ]
        }
      ]
    },
    {
      "cell_type": "markdown",
      "metadata": {
        "id": "ks5MkBHjOIj2"
      },
      "source": [
        "##**Handling Missing values in data frame**\n",
        "*   Handling Missing Value with Mean and Mode Methods.\n",
        "\n"
      ]
    },
    {
      "cell_type": "code",
      "metadata": {
        "id": "5B27Dka4N5bb"
      },
      "source": [
        "# handling which is the value is NaN\n",
        "df['Umur'] = df['Umur'].replace(np.NaN, df['Umur'].mean())\n",
        "df['Kode_Daerah'] = df['Kode_Daerah'].replace(np.NaN, df['Kode_Daerah'].mode()[0])\n",
        "df['Premi'] = df['Premi'].replace(np.NaN, df['Premi'].mean())\n",
        "df['Kanal_Penjualan'] = df['Kanal_Penjualan'].replace(np.NaN, df['Kanal_Penjualan'].mode()[0])\n",
        "df['Lama_Berlangganan'] = df['Lama_Berlangganan'].replace(np.NaN, df['Lama_Berlangganan'].mean())\n",
        "df['Jenis_Kelamin'] = df['Jenis_Kelamin'].replace(np.NaN, df['Jenis_Kelamin'].mode()[0])\n",
        "df['Sudah_Asuransi'] = df['Sudah_Asuransi'].replace(np.NaN, df['Sudah_Asuransi'].mode()[0])\n",
        "df['SIM'] = df['SIM'].replace(np.NaN, df['SIM'].mode()[0])\n",
        "df['Umur_Kendaraan'] = df['Umur_Kendaraan'].replace(np.NaN, df['Umur_Kendaraan'].mode()[0])\n",
        "df['Kendaraan_Rusak'] = df['Kendaraan_Rusak'].replace(np.NaN, df['Kendaraan_Rusak'].mode()[0])"
      ],
      "execution_count": null,
      "outputs": []
    },
    {
      "cell_type": "code",
      "metadata": {
        "colab": {
          "base_uri": "https://localhost:8080/"
        },
        "id": "nhsCpv55comW",
        "outputId": "525d3ccc-2da8-499c-e700-3c871b9dcdf4"
      },
      "source": [
        "# check any value null in dataset\n",
        "df.isnull().sum()"
      ],
      "execution_count": null,
      "outputs": [
        {
          "output_type": "execute_result",
          "data": {
            "text/plain": [
              "Jenis_Kelamin        0\n",
              "Umur                 0\n",
              "SIM                  0\n",
              "Kode_Daerah          0\n",
              "Sudah_Asuransi       0\n",
              "Umur_Kendaraan       0\n",
              "Kendaraan_Rusak      0\n",
              "Premi                0\n",
              "Kanal_Penjualan      0\n",
              "Lama_Berlangganan    0\n",
              "dtype: int64"
            ]
          },
          "metadata": {},
          "execution_count": 15
        }
      ]
    },
    {
      "cell_type": "code",
      "metadata": {
        "colab": {
          "base_uri": "https://localhost:8080/"
        },
        "id": "Cfr0DVj9lADi",
        "outputId": "ba49beab-259c-4b9d-8c68-05c83e2c289f"
      },
      "source": [
        "df.head(5)"
      ],
      "execution_count": null,
      "outputs": [
        {
          "output_type": "execute_result",
          "data": {
            "text/html": [
              "<div>\n",
              "<style scoped>\n",
              "    .dataframe tbody tr th:only-of-type {\n",
              "        vertical-align: middle;\n",
              "    }\n",
              "\n",
              "    .dataframe tbody tr th {\n",
              "        vertical-align: top;\n",
              "    }\n",
              "\n",
              "    .dataframe thead th {\n",
              "        text-align: right;\n",
              "    }\n",
              "</style>\n",
              "<table border=\"1\" class=\"dataframe\">\n",
              "  <thead>\n",
              "    <tr style=\"text-align: right;\">\n",
              "      <th></th>\n",
              "      <th>Jenis_Kelamin</th>\n",
              "      <th>Umur</th>\n",
              "      <th>SIM</th>\n",
              "      <th>Kode_Daerah</th>\n",
              "      <th>Sudah_Asuransi</th>\n",
              "      <th>Umur_Kendaraan</th>\n",
              "      <th>Kendaraan_Rusak</th>\n",
              "      <th>Premi</th>\n",
              "      <th>Kanal_Penjualan</th>\n",
              "      <th>Lama_Berlangganan</th>\n",
              "    </tr>\n",
              "  </thead>\n",
              "  <tbody>\n",
              "    <tr>\n",
              "      <th>0</th>\n",
              "      <td>Wanita</td>\n",
              "      <td>30.0</td>\n",
              "      <td>1.0</td>\n",
              "      <td>33.0</td>\n",
              "      <td>1.0</td>\n",
              "      <td>&lt; 1 Tahun</td>\n",
              "      <td>Tidak</td>\n",
              "      <td>28029.0</td>\n",
              "      <td>152.0</td>\n",
              "      <td>97.0</td>\n",
              "    </tr>\n",
              "    <tr>\n",
              "      <th>1</th>\n",
              "      <td>Pria</td>\n",
              "      <td>48.0</td>\n",
              "      <td>1.0</td>\n",
              "      <td>39.0</td>\n",
              "      <td>0.0</td>\n",
              "      <td>&gt; 2 Tahun</td>\n",
              "      <td>Pernah</td>\n",
              "      <td>25800.0</td>\n",
              "      <td>29.0</td>\n",
              "      <td>158.0</td>\n",
              "    </tr>\n",
              "    <tr>\n",
              "      <th>2</th>\n",
              "      <td>Pria</td>\n",
              "      <td>21.0</td>\n",
              "      <td>1.0</td>\n",
              "      <td>46.0</td>\n",
              "      <td>1.0</td>\n",
              "      <td>&lt; 1 Tahun</td>\n",
              "      <td>Tidak</td>\n",
              "      <td>32733.0</td>\n",
              "      <td>160.0</td>\n",
              "      <td>119.0</td>\n",
              "    </tr>\n",
              "    <tr>\n",
              "      <th>3</th>\n",
              "      <td>Wanita</td>\n",
              "      <td>58.0</td>\n",
              "      <td>1.0</td>\n",
              "      <td>48.0</td>\n",
              "      <td>0.0</td>\n",
              "      <td>1-2 Tahun</td>\n",
              "      <td>Tidak</td>\n",
              "      <td>2630.0</td>\n",
              "      <td>124.0</td>\n",
              "      <td>63.0</td>\n",
              "    </tr>\n",
              "    <tr>\n",
              "      <th>4</th>\n",
              "      <td>Pria</td>\n",
              "      <td>50.0</td>\n",
              "      <td>1.0</td>\n",
              "      <td>35.0</td>\n",
              "      <td>0.0</td>\n",
              "      <td>&gt; 2 Tahun</td>\n",
              "      <td>Pernah</td>\n",
              "      <td>34857.0</td>\n",
              "      <td>88.0</td>\n",
              "      <td>194.0</td>\n",
              "    </tr>\n",
              "  </tbody>\n",
              "</table>\n",
              "</div>"
            ],
            "text/plain": [
              "  Jenis_Kelamin  Umur  SIM  ...    Premi  Kanal_Penjualan Lama_Berlangganan\n",
              "0        Wanita  30.0  1.0  ...  28029.0            152.0              97.0\n",
              "1          Pria  48.0  1.0  ...  25800.0             29.0             158.0\n",
              "2          Pria  21.0  1.0  ...  32733.0            160.0             119.0\n",
              "3        Wanita  58.0  1.0  ...   2630.0            124.0              63.0\n",
              "4          Pria  50.0  1.0  ...  34857.0             88.0             194.0\n",
              "\n",
              "[5 rows x 10 columns]"
            ]
          },
          "metadata": {},
          "execution_count": 16
        }
      ]
    },
    {
      "cell_type": "code",
      "metadata": {
        "colab": {
          "base_uri": "https://localhost:8080/"
        },
        "id": "BwVrShlaoCzn",
        "outputId": "63cb663f-fa33-4196-dc43-62802ee31664"
      },
      "source": [
        "df['Umur_Kendaraan'].unique()"
      ],
      "execution_count": null,
      "outputs": [
        {
          "output_type": "execute_result",
          "data": {
            "text/plain": [
              "array(['< 1 Tahun', '> 2 Tahun', '1-2 Tahun'], dtype=object)"
            ]
          },
          "metadata": {},
          "execution_count": 17
        }
      ]
    },
    {
      "cell_type": "markdown",
      "metadata": {
        "id": "52Sg7Vkk_0ZN"
      },
      "source": [
        ""
      ]
    },
    {
      "cell_type": "markdown",
      "metadata": {
        "id": "SFDoIMNW-_bY"
      },
      "source": [
        "## **Scaling Data, Make Categorical Data, And Handle for Duplicated Data**"
      ]
    },
    {
      "cell_type": "code",
      "metadata": {
        "colab": {
          "base_uri": "https://localhost:8080/",
          "height": 425
        },
        "id": "gQeDOVIFA5Ex",
        "outputId": "03c8cb75-85fb-4d3e-846d-a901bb252e2f"
      },
      "source": [
        "# Code di bawah untuk mengecek berapa banyak duplicate data\n",
        "print(\"Duplicate data ada sebanyak : \", df.duplicated().sum())\n",
        "duplicateData = df[df.duplicated()]\n",
        "duplicateData"
      ],
      "execution_count": null,
      "outputs": [
        {
          "output_type": "stream",
          "name": "stdout",
          "text": [
            "Duplicate data ada sebanyak :  1500\n"
          ]
        },
        {
          "output_type": "execute_result",
          "data": {
            "text/html": [
              "<div>\n",
              "<style scoped>\n",
              "    .dataframe tbody tr th:only-of-type {\n",
              "        vertical-align: middle;\n",
              "    }\n",
              "\n",
              "    .dataframe tbody tr th {\n",
              "        vertical-align: top;\n",
              "    }\n",
              "\n",
              "    .dataframe thead th {\n",
              "        text-align: right;\n",
              "    }\n",
              "</style>\n",
              "<table border=\"1\" class=\"dataframe\">\n",
              "  <thead>\n",
              "    <tr style=\"text-align: right;\">\n",
              "      <th></th>\n",
              "      <th>Jenis_Kelamin</th>\n",
              "      <th>Umur</th>\n",
              "      <th>SIM</th>\n",
              "      <th>Kode_Daerah</th>\n",
              "      <th>Sudah_Asuransi</th>\n",
              "      <th>Umur_Kendaraan</th>\n",
              "      <th>Kendaraan_Rusak</th>\n",
              "      <th>Premi</th>\n",
              "      <th>Kanal_Penjualan</th>\n",
              "      <th>Lama_Berlangganan</th>\n",
              "    </tr>\n",
              "  </thead>\n",
              "  <tbody>\n",
              "    <tr>\n",
              "      <th>11067</th>\n",
              "      <td>Pria</td>\n",
              "      <td>67.0</td>\n",
              "      <td>1.0</td>\n",
              "      <td>28.0</td>\n",
              "      <td>0.0</td>\n",
              "      <td>1-2 Tahun</td>\n",
              "      <td>Pernah</td>\n",
              "      <td>48409.000000</td>\n",
              "      <td>26.0</td>\n",
              "      <td>154.286302</td>\n",
              "    </tr>\n",
              "    <tr>\n",
              "      <th>13036</th>\n",
              "      <td>Wanita</td>\n",
              "      <td>29.0</td>\n",
              "      <td>1.0</td>\n",
              "      <td>28.0</td>\n",
              "      <td>1.0</td>\n",
              "      <td>&lt; 1 Tahun</td>\n",
              "      <td>Tidak</td>\n",
              "      <td>48409.000000</td>\n",
              "      <td>152.0</td>\n",
              "      <td>158.000000</td>\n",
              "    </tr>\n",
              "    <tr>\n",
              "      <th>13682</th>\n",
              "      <td>Wanita</td>\n",
              "      <td>23.0</td>\n",
              "      <td>1.0</td>\n",
              "      <td>8.0</td>\n",
              "      <td>1.0</td>\n",
              "      <td>&lt; 1 Tahun</td>\n",
              "      <td>Tidak</td>\n",
              "      <td>48409.000000</td>\n",
              "      <td>152.0</td>\n",
              "      <td>154.286302</td>\n",
              "    </tr>\n",
              "    <tr>\n",
              "      <th>15528</th>\n",
              "      <td>Pria</td>\n",
              "      <td>41.0</td>\n",
              "      <td>1.0</td>\n",
              "      <td>28.0</td>\n",
              "      <td>0.0</td>\n",
              "      <td>1-2 Tahun</td>\n",
              "      <td>Pernah</td>\n",
              "      <td>48409.000000</td>\n",
              "      <td>124.0</td>\n",
              "      <td>117.000000</td>\n",
              "    </tr>\n",
              "    <tr>\n",
              "      <th>16681</th>\n",
              "      <td>Wanita</td>\n",
              "      <td>43.0</td>\n",
              "      <td>1.0</td>\n",
              "      <td>28.0</td>\n",
              "      <td>0.0</td>\n",
              "      <td>1-2 Tahun</td>\n",
              "      <td>Pernah</td>\n",
              "      <td>48409.000000</td>\n",
              "      <td>26.0</td>\n",
              "      <td>154.286302</td>\n",
              "    </tr>\n",
              "    <tr>\n",
              "      <th>...</th>\n",
              "      <td>...</td>\n",
              "      <td>...</td>\n",
              "      <td>...</td>\n",
              "      <td>...</td>\n",
              "      <td>...</td>\n",
              "      <td>...</td>\n",
              "      <td>...</td>\n",
              "      <td>...</td>\n",
              "      <td>...</td>\n",
              "      <td>...</td>\n",
              "    </tr>\n",
              "    <tr>\n",
              "      <th>285254</th>\n",
              "      <td>Wanita</td>\n",
              "      <td>43.0</td>\n",
              "      <td>1.0</td>\n",
              "      <td>28.0</td>\n",
              "      <td>0.0</td>\n",
              "      <td>1-2 Tahun</td>\n",
              "      <td>Pernah</td>\n",
              "      <td>2630.000000</td>\n",
              "      <td>124.0</td>\n",
              "      <td>252.000000</td>\n",
              "    </tr>\n",
              "    <tr>\n",
              "      <th>285261</th>\n",
              "      <td>Wanita</td>\n",
              "      <td>48.0</td>\n",
              "      <td>1.0</td>\n",
              "      <td>28.0</td>\n",
              "      <td>0.0</td>\n",
              "      <td>1-2 Tahun</td>\n",
              "      <td>Pernah</td>\n",
              "      <td>48409.000000</td>\n",
              "      <td>26.0</td>\n",
              "      <td>154.286302</td>\n",
              "    </tr>\n",
              "    <tr>\n",
              "      <th>285430</th>\n",
              "      <td>Pria</td>\n",
              "      <td>56.0</td>\n",
              "      <td>1.0</td>\n",
              "      <td>28.0</td>\n",
              "      <td>0.0</td>\n",
              "      <td>1-2 Tahun</td>\n",
              "      <td>Pernah</td>\n",
              "      <td>48409.000000</td>\n",
              "      <td>26.0</td>\n",
              "      <td>242.000000</td>\n",
              "    </tr>\n",
              "    <tr>\n",
              "      <th>285499</th>\n",
              "      <td>Pria</td>\n",
              "      <td>52.0</td>\n",
              "      <td>1.0</td>\n",
              "      <td>28.0</td>\n",
              "      <td>0.0</td>\n",
              "      <td>1-2 Tahun</td>\n",
              "      <td>Pernah</td>\n",
              "      <td>29395.850945</td>\n",
              "      <td>26.0</td>\n",
              "      <td>154.286302</td>\n",
              "    </tr>\n",
              "    <tr>\n",
              "      <th>285564</th>\n",
              "      <td>Wanita</td>\n",
              "      <td>24.0</td>\n",
              "      <td>1.0</td>\n",
              "      <td>28.0</td>\n",
              "      <td>1.0</td>\n",
              "      <td>&lt; 1 Tahun</td>\n",
              "      <td>Tidak</td>\n",
              "      <td>48409.000000</td>\n",
              "      <td>152.0</td>\n",
              "      <td>230.000000</td>\n",
              "    </tr>\n",
              "  </tbody>\n",
              "</table>\n",
              "<p>1500 rows × 10 columns</p>\n",
              "</div>"
            ],
            "text/plain": [
              "       Jenis_Kelamin  Umur  ...  Kanal_Penjualan  Lama_Berlangganan\n",
              "11067           Pria  67.0  ...             26.0         154.286302\n",
              "13036         Wanita  29.0  ...            152.0         158.000000\n",
              "13682         Wanita  23.0  ...            152.0         154.286302\n",
              "15528           Pria  41.0  ...            124.0         117.000000\n",
              "16681         Wanita  43.0  ...             26.0         154.286302\n",
              "...              ...   ...  ...              ...                ...\n",
              "285254        Wanita  43.0  ...            124.0         252.000000\n",
              "285261        Wanita  48.0  ...             26.0         154.286302\n",
              "285430          Pria  56.0  ...             26.0         242.000000\n",
              "285499          Pria  52.0  ...             26.0         154.286302\n",
              "285564        Wanita  24.0  ...            152.0         230.000000\n",
              "\n",
              "[1500 rows x 10 columns]"
            ]
          },
          "metadata": {},
          "execution_count": 18
        }
      ]
    },
    {
      "cell_type": "code",
      "metadata": {
        "colab": {
          "base_uri": "https://localhost:8080/"
        },
        "id": "riQTx7clBMon",
        "outputId": "e7d6ed6f-ec6d-4c65-b73c-dfd2d31826fc"
      },
      "source": [
        "# Code di bawah untuk menghandle duplicate data, yaitu dengan cara di drop\n",
        "df = df.drop_duplicates()\n",
        "print(\"Duplicate data ada sebanyak : \", df.duplicated().sum())"
      ],
      "execution_count": null,
      "outputs": [
        {
          "output_type": "stream",
          "name": "stdout",
          "text": [
            "Duplicate data ada sebanyak :  0\n"
          ]
        }
      ]
    },
    {
      "cell_type": "code",
      "metadata": {
        "id": "o-gthXwhp7rz"
      },
      "source": [
        "# DATA LEBELING JENIS KELAMIN WANITA 1 , PRIA 0\n",
        "df[\"Jenis_Kelamin\"] = np.where(df[\"Jenis_Kelamin\"].str.contains(\"Wanita\"), 1, 0)\n",
        "\n",
        "# DATA LABELING UMUR KENDARAAN\n",
        "column = 'Umur_Kendaraan'\n",
        "conditions = [df[column].str.contains(\"< 1 Tahun\"), df[column].str.contains(\"> 2 Tahun\"), df[column].str.contains(\"1-2 Tahun\")]\n",
        "choices = [ 0, 1, 2]\n",
        "df['Umur_Kendaraan'] = np.select(conditions, choices, default=np.nan)\n",
        "\n",
        "# DATA LABELING KENDARAAN RUSAK 1 = PERNAH, 0 = TIDAK\n",
        "column2 = 'Kendaraan_Rusak'\n",
        "conditions2 = [df[column2].str.contains(\"Pernah\"), df[column2].str.contains(\"Tidak\")]\n",
        "choices2 = [1, 0]\n",
        "df['Kendaraan_Rusak'] = np.select(conditions2, choices2, default=np.nan)"
      ],
      "execution_count": null,
      "outputs": []
    },
    {
      "cell_type": "code",
      "metadata": {
        "colab": {
          "base_uri": "https://localhost:8080/",
          "height": 200
        },
        "id": "YZVGGHbQsdNm",
        "outputId": "1fb6117b-8cc0-4a7e-9dd3-fa2a64d05f98"
      },
      "source": [
        "df.sample(5)"
      ],
      "execution_count": null,
      "outputs": [
        {
          "output_type": "execute_result",
          "data": {
            "text/html": [
              "<div>\n",
              "<style scoped>\n",
              "    .dataframe tbody tr th:only-of-type {\n",
              "        vertical-align: middle;\n",
              "    }\n",
              "\n",
              "    .dataframe tbody tr th {\n",
              "        vertical-align: top;\n",
              "    }\n",
              "\n",
              "    .dataframe thead th {\n",
              "        text-align: right;\n",
              "    }\n",
              "</style>\n",
              "<table border=\"1\" class=\"dataframe\">\n",
              "  <thead>\n",
              "    <tr style=\"text-align: right;\">\n",
              "      <th></th>\n",
              "      <th>Jenis_Kelamin</th>\n",
              "      <th>Umur</th>\n",
              "      <th>SIM</th>\n",
              "      <th>Kode_Daerah</th>\n",
              "      <th>Sudah_Asuransi</th>\n",
              "      <th>Umur_Kendaraan</th>\n",
              "      <th>Kendaraan_Rusak</th>\n",
              "      <th>Premi</th>\n",
              "      <th>Kanal_Penjualan</th>\n",
              "      <th>Lama_Berlangganan</th>\n",
              "    </tr>\n",
              "  </thead>\n",
              "  <tbody>\n",
              "    <tr>\n",
              "      <th>169389</th>\n",
              "      <td>0</td>\n",
              "      <td>34.0</td>\n",
              "      <td>1.0</td>\n",
              "      <td>28.0</td>\n",
              "      <td>0.0</td>\n",
              "      <td>2.0</td>\n",
              "      <td>1.0</td>\n",
              "      <td>48409.0</td>\n",
              "      <td>122.0</td>\n",
              "      <td>146.000000</td>\n",
              "    </tr>\n",
              "    <tr>\n",
              "      <th>66921</th>\n",
              "      <td>1</td>\n",
              "      <td>27.0</td>\n",
              "      <td>1.0</td>\n",
              "      <td>8.0</td>\n",
              "      <td>1.0</td>\n",
              "      <td>0.0</td>\n",
              "      <td>0.0</td>\n",
              "      <td>47396.0</td>\n",
              "      <td>152.0</td>\n",
              "      <td>24.000000</td>\n",
              "    </tr>\n",
              "    <tr>\n",
              "      <th>204744</th>\n",
              "      <td>0</td>\n",
              "      <td>24.0</td>\n",
              "      <td>1.0</td>\n",
              "      <td>8.0</td>\n",
              "      <td>0.0</td>\n",
              "      <td>0.0</td>\n",
              "      <td>1.0</td>\n",
              "      <td>48409.0</td>\n",
              "      <td>160.0</td>\n",
              "      <td>299.000000</td>\n",
              "    </tr>\n",
              "    <tr>\n",
              "      <th>264388</th>\n",
              "      <td>0</td>\n",
              "      <td>20.0</td>\n",
              "      <td>1.0</td>\n",
              "      <td>8.0</td>\n",
              "      <td>1.0</td>\n",
              "      <td>0.0</td>\n",
              "      <td>0.0</td>\n",
              "      <td>44502.0</td>\n",
              "      <td>160.0</td>\n",
              "      <td>154.286302</td>\n",
              "    </tr>\n",
              "    <tr>\n",
              "      <th>268072</th>\n",
              "      <td>1</td>\n",
              "      <td>22.0</td>\n",
              "      <td>1.0</td>\n",
              "      <td>46.0</td>\n",
              "      <td>1.0</td>\n",
              "      <td>0.0</td>\n",
              "      <td>0.0</td>\n",
              "      <td>24384.0</td>\n",
              "      <td>152.0</td>\n",
              "      <td>294.000000</td>\n",
              "    </tr>\n",
              "  </tbody>\n",
              "</table>\n",
              "</div>"
            ],
            "text/plain": [
              "        Jenis_Kelamin  Umur  SIM  ...    Premi  Kanal_Penjualan  Lama_Berlangganan\n",
              "169389              0  34.0  1.0  ...  48409.0            122.0         146.000000\n",
              "66921               1  27.0  1.0  ...  47396.0            152.0          24.000000\n",
              "204744              0  24.0  1.0  ...  48409.0            160.0         299.000000\n",
              "264388              0  20.0  1.0  ...  44502.0            160.0         154.286302\n",
              "268072              1  22.0  1.0  ...  24384.0            152.0         294.000000\n",
              "\n",
              "[5 rows x 10 columns]"
            ]
          },
          "metadata": {},
          "execution_count": 21
        }
      ]
    },
    {
      "cell_type": "code",
      "metadata": {
        "colab": {
          "base_uri": "https://localhost:8080/",
          "height": 200
        },
        "id": "4QciwYS7wWPI",
        "outputId": "a8a48772-a186-412d-f3e5-c466d447eb50"
      },
      "source": [
        "# NORMALIZE IN BASE MEAN,\n",
        "df=(df-df.mean())/df.std()\n",
        "df.sample(5)\n"
      ],
      "execution_count": null,
      "outputs": [
        {
          "output_type": "execute_result",
          "data": {
            "text/html": [
              "<div>\n",
              "<style scoped>\n",
              "    .dataframe tbody tr th:only-of-type {\n",
              "        vertical-align: middle;\n",
              "    }\n",
              "\n",
              "    .dataframe tbody tr th {\n",
              "        vertical-align: top;\n",
              "    }\n",
              "\n",
              "    .dataframe thead th {\n",
              "        text-align: right;\n",
              "    }\n",
              "</style>\n",
              "<table border=\"1\" class=\"dataframe\">\n",
              "  <thead>\n",
              "    <tr style=\"text-align: right;\">\n",
              "      <th></th>\n",
              "      <th>Jenis_Kelamin</th>\n",
              "      <th>Umur</th>\n",
              "      <th>SIM</th>\n",
              "      <th>Kode_Daerah</th>\n",
              "      <th>Sudah_Asuransi</th>\n",
              "      <th>Umur_Kendaraan</th>\n",
              "      <th>Kendaraan_Rusak</th>\n",
              "      <th>Premi</th>\n",
              "      <th>Kanal_Penjualan</th>\n",
              "      <th>Lama_Berlangganan</th>\n",
              "    </tr>\n",
              "  </thead>\n",
              "  <tbody>\n",
              "    <tr>\n",
              "      <th>145353</th>\n",
              "      <td>1.136064</td>\n",
              "      <td>-0.782403</td>\n",
              "      <td>0.045367</td>\n",
              "      <td>1.121391</td>\n",
              "      <td>1.137242</td>\n",
              "      <td>-1.174007</td>\n",
              "      <td>-1.060103</td>\n",
              "      <td>0.173119</td>\n",
              "      <td>0.708419</td>\n",
              "      <td>1.232915</td>\n",
              "    </tr>\n",
              "    <tr>\n",
              "      <th>38388</th>\n",
              "      <td>-0.880229</td>\n",
              "      <td>-1.112647</td>\n",
              "      <td>0.045367</td>\n",
              "      <td>0.116830</td>\n",
              "      <td>1.137242</td>\n",
              "      <td>-1.174007</td>\n",
              "      <td>0.943301</td>\n",
              "      <td>0.795355</td>\n",
              "      <td>0.708419</td>\n",
              "      <td>-0.321797</td>\n",
              "    </tr>\n",
              "    <tr>\n",
              "      <th>40494</th>\n",
              "      <td>-0.880229</td>\n",
              "      <td>0.934871</td>\n",
              "      <td>0.045367</td>\n",
              "      <td>0.116830</td>\n",
              "      <td>-0.879317</td>\n",
              "      <td>0.888010</td>\n",
              "      <td>0.943301</td>\n",
              "      <td>1.122131</td>\n",
              "      <td>-1.646127</td>\n",
              "      <td>0.020974</td>\n",
              "    </tr>\n",
              "    <tr>\n",
              "      <th>217929</th>\n",
              "      <td>1.136064</td>\n",
              "      <td>-0.848452</td>\n",
              "      <td>0.045367</td>\n",
              "      <td>0.116830</td>\n",
              "      <td>1.137242</td>\n",
              "      <td>0.888010</td>\n",
              "      <td>-1.060103</td>\n",
              "      <td>1.372379</td>\n",
              "      <td>0.708419</td>\n",
              "      <td>-1.276660</td>\n",
              "    </tr>\n",
              "    <tr>\n",
              "      <th>274091</th>\n",
              "      <td>-0.880229</td>\n",
              "      <td>-0.320060</td>\n",
              "      <td>0.045367</td>\n",
              "      <td>0.116830</td>\n",
              "      <td>-0.879317</td>\n",
              "      <td>0.888010</td>\n",
              "      <td>0.943301</td>\n",
              "      <td>0.331575</td>\n",
              "      <td>0.708419</td>\n",
              "      <td>0.167876</td>\n",
              "    </tr>\n",
              "  </tbody>\n",
              "</table>\n",
              "</div>"
            ],
            "text/plain": [
              "        Jenis_Kelamin      Umur  ...  Kanal_Penjualan  Lama_Berlangganan\n",
              "145353       1.136064 -0.782403  ...         0.708419           1.232915\n",
              "38388       -0.880229 -1.112647  ...         0.708419          -0.321797\n",
              "40494       -0.880229  0.934871  ...        -1.646127           0.020974\n",
              "217929       1.136064 -0.848452  ...         0.708419          -1.276660\n",
              "274091      -0.880229 -0.320060  ...         0.708419           0.167876\n",
              "\n",
              "[5 rows x 10 columns]"
            ]
          },
          "metadata": {},
          "execution_count": 22
        }
      ]
    },
    {
      "cell_type": "code",
      "metadata": {
        "id": "BYnB4CpXkByd"
      },
      "source": [
        "# Export data to external excel\n",
        "df.to_excel('k-means-preprocessed.xlsx', header=True, index=False )"
      ],
      "execution_count": null,
      "outputs": []
    },
    {
      "cell_type": "code",
      "metadata": {
        "id": "Ssv29OYIUyAv"
      },
      "source": [
        ""
      ],
      "execution_count": null,
      "outputs": []
    },
    {
      "cell_type": "markdown",
      "metadata": {
        "id": "pHewr3Img547"
      },
      "source": [
        "## **Data Preparation**\n"
      ]
    },
    {
      "cell_type": "code",
      "metadata": {
        "colab": {
          "base_uri": "https://localhost:8080/"
        },
        "id": "CL3R6q4uhFUo",
        "outputId": "81e61c37-18b6-4936-8b50-965d14e5f00f"
      },
      "source": [
        "correlation = df.corr()\n",
        "correlation"
      ],
      "execution_count": null,
      "outputs": [
        {
          "output_type": "execute_result",
          "data": {
            "text/html": [
              "<div>\n",
              "<style scoped>\n",
              "    .dataframe tbody tr th:only-of-type {\n",
              "        vertical-align: middle;\n",
              "    }\n",
              "\n",
              "    .dataframe tbody tr th {\n",
              "        vertical-align: top;\n",
              "    }\n",
              "\n",
              "    .dataframe thead th {\n",
              "        text-align: right;\n",
              "    }\n",
              "</style>\n",
              "<table border=\"1\" class=\"dataframe\">\n",
              "  <thead>\n",
              "    <tr style=\"text-align: right;\">\n",
              "      <th></th>\n",
              "      <th>Jenis_Kelamin</th>\n",
              "      <th>Umur</th>\n",
              "      <th>SIM</th>\n",
              "      <th>Kode_Daerah</th>\n",
              "      <th>Sudah_Asuransi</th>\n",
              "      <th>Umur_Kendaraan</th>\n",
              "      <th>Kendaraan_Rusak</th>\n",
              "      <th>Premi</th>\n",
              "      <th>Kanal_Penjualan</th>\n",
              "      <th>Lama_Berlangganan</th>\n",
              "    </tr>\n",
              "  </thead>\n",
              "  <tbody>\n",
              "    <tr>\n",
              "      <th>Jenis_Kelamin</th>\n",
              "      <td>1.000000</td>\n",
              "      <td>-0.135621</td>\n",
              "      <td>0.015969</td>\n",
              "      <td>-0.001287</td>\n",
              "      <td>0.073970</td>\n",
              "      <td>-0.148010</td>\n",
              "      <td>-0.082157</td>\n",
              "      <td>-0.002320</td>\n",
              "      <td>0.104828</td>\n",
              "      <td>0.001308</td>\n",
              "    </tr>\n",
              "    <tr>\n",
              "      <th>Umur</th>\n",
              "      <td>-0.135621</td>\n",
              "      <td>1.000000</td>\n",
              "      <td>-0.075347</td>\n",
              "      <td>0.040870</td>\n",
              "      <td>-0.235650</td>\n",
              "      <td>0.702808</td>\n",
              "      <td>0.247780</td>\n",
              "      <td>0.048625</td>\n",
              "      <td>-0.540762</td>\n",
              "      <td>0.000146</td>\n",
              "    </tr>\n",
              "    <tr>\n",
              "      <th>SIM</th>\n",
              "      <td>0.015969</td>\n",
              "      <td>-0.075347</td>\n",
              "      <td>1.000000</td>\n",
              "      <td>-0.003175</td>\n",
              "      <td>0.015298</td>\n",
              "      <td>-0.037483</td>\n",
              "      <td>-0.016493</td>\n",
              "      <td>-0.009955</td>\n",
              "      <td>0.040669</td>\n",
              "      <td>-0.001202</td>\n",
              "    </tr>\n",
              "    <tr>\n",
              "      <th>Kode_Daerah</th>\n",
              "      <td>-0.001287</td>\n",
              "      <td>0.040870</td>\n",
              "      <td>-0.003175</td>\n",
              "      <td>1.000000</td>\n",
              "      <td>-0.021935</td>\n",
              "      <td>0.038253</td>\n",
              "      <td>0.025686</td>\n",
              "      <td>-0.006254</td>\n",
              "      <td>-0.040236</td>\n",
              "      <td>-0.003407</td>\n",
              "    </tr>\n",
              "    <tr>\n",
              "      <th>Sudah_Asuransi</th>\n",
              "      <td>0.073970</td>\n",
              "      <td>-0.235650</td>\n",
              "      <td>0.015298</td>\n",
              "      <td>-0.021935</td>\n",
              "      <td>1.000000</td>\n",
              "      <td>-0.293140</td>\n",
              "      <td>-0.748706</td>\n",
              "      <td>0.013167</td>\n",
              "      <td>0.201437</td>\n",
              "      <td>0.002711</td>\n",
              "    </tr>\n",
              "    <tr>\n",
              "      <th>Umur_Kendaraan</th>\n",
              "      <td>-0.148010</td>\n",
              "      <td>0.702808</td>\n",
              "      <td>-0.037483</td>\n",
              "      <td>0.038253</td>\n",
              "      <td>-0.293140</td>\n",
              "      <td>1.000000</td>\n",
              "      <td>0.301968</td>\n",
              "      <td>-0.004815</td>\n",
              "      <td>-0.505110</td>\n",
              "      <td>-0.002488</td>\n",
              "    </tr>\n",
              "    <tr>\n",
              "      <th>Kendaraan_Rusak</th>\n",
              "      <td>-0.082157</td>\n",
              "      <td>0.247780</td>\n",
              "      <td>-0.016493</td>\n",
              "      <td>0.025686</td>\n",
              "      <td>-0.748706</td>\n",
              "      <td>0.301968</td>\n",
              "      <td>1.000000</td>\n",
              "      <td>0.000504</td>\n",
              "      <td>-0.205268</td>\n",
              "      <td>-0.001315</td>\n",
              "    </tr>\n",
              "    <tr>\n",
              "      <th>Premi</th>\n",
              "      <td>-0.002320</td>\n",
              "      <td>0.048625</td>\n",
              "      <td>-0.009955</td>\n",
              "      <td>-0.006254</td>\n",
              "      <td>0.013167</td>\n",
              "      <td>-0.004815</td>\n",
              "      <td>0.000504</td>\n",
              "      <td>1.000000</td>\n",
              "      <td>-0.101557</td>\n",
              "      <td>0.000059</td>\n",
              "    </tr>\n",
              "    <tr>\n",
              "      <th>Kanal_Penjualan</th>\n",
              "      <td>0.104828</td>\n",
              "      <td>-0.540762</td>\n",
              "      <td>0.040669</td>\n",
              "      <td>-0.040236</td>\n",
              "      <td>0.201437</td>\n",
              "      <td>-0.505110</td>\n",
              "      <td>-0.205268</td>\n",
              "      <td>-0.101557</td>\n",
              "      <td>1.000000</td>\n",
              "      <td>-0.000187</td>\n",
              "    </tr>\n",
              "    <tr>\n",
              "      <th>Lama_Berlangganan</th>\n",
              "      <td>0.001308</td>\n",
              "      <td>0.000146</td>\n",
              "      <td>-0.001202</td>\n",
              "      <td>-0.003407</td>\n",
              "      <td>0.002711</td>\n",
              "      <td>-0.002488</td>\n",
              "      <td>-0.001315</td>\n",
              "      <td>0.000059</td>\n",
              "      <td>-0.000187</td>\n",
              "      <td>1.000000</td>\n",
              "    </tr>\n",
              "  </tbody>\n",
              "</table>\n",
              "</div>"
            ],
            "text/plain": [
              "                   Jenis_Kelamin      Umur  ...  Kanal_Penjualan  Lama_Berlangganan\n",
              "Jenis_Kelamin           1.000000 -0.135621  ...         0.104828           0.001308\n",
              "Umur                   -0.135621  1.000000  ...        -0.540762           0.000146\n",
              "SIM                     0.015969 -0.075347  ...         0.040669          -0.001202\n",
              "Kode_Daerah            -0.001287  0.040870  ...        -0.040236          -0.003407\n",
              "Sudah_Asuransi          0.073970 -0.235650  ...         0.201437           0.002711\n",
              "Umur_Kendaraan         -0.148010  0.702808  ...        -0.505110          -0.002488\n",
              "Kendaraan_Rusak        -0.082157  0.247780  ...        -0.205268          -0.001315\n",
              "Premi                  -0.002320  0.048625  ...        -0.101557           0.000059\n",
              "Kanal_Penjualan         0.104828 -0.540762  ...         1.000000          -0.000187\n",
              "Lama_Berlangganan       0.001308  0.000146  ...        -0.000187           1.000000\n",
              "\n",
              "[10 rows x 10 columns]"
            ]
          },
          "metadata": {},
          "execution_count": 23
        }
      ]
    },
    {
      "cell_type": "code",
      "metadata": {
        "colab": {
          "base_uri": "https://localhost:8080/"
        },
        "id": "csiX9oTahMGt",
        "outputId": "dfaad008-e0cb-4a5b-f75b-b4667260e9a6"
      },
      "source": [
        "plt.figure()\n",
        "fig, ax = plt.subplots(figsize=(15,15))\n",
        "sns.heatmap(correlation, annot=True, square=True)\n",
        "plt.show()"
      ],
      "execution_count": null,
      "outputs": [
        {
          "output_type": "display_data",
          "data": {
            "text/plain": [
              "<Figure size 432x288 with 0 Axes>"
            ]
          },
          "metadata": {}
        },
        {
          "output_type": "display_data",
          "data": {
            "image/png": "[encoded data removed]",
            "text/plain": [
              "<Figure size 1080x1080 with 2 Axes>"
            ]
          },
          "metadata": {
            "needs_background": "light"
          }
        }
      ]
    },
    {
      "cell_type": "code",
      "metadata": {
        "id": "zRo1ixuDg-QG"
      },
      "source": [
        "# atau setelah di describe dengan heatmap, bisa dijabarkan disini dengan langsung menggunakan 'Umur' sebagai acuan karena densitynya tinggi dilihat dari heatmap\n",
        "SELECTED_FEATURES_COL = ['Jenis_Kelamin', 'Umur', 'SIM', 'Kode_Daerah', 'Sudah_Asuransi', 'Umur_Kendaraan', 'Kendaraan_Rusak', 'Premi' , 'Kanal_Penjualan', 'Lama_Berlangganan']"
      ],
      "execution_count": null,
      "outputs": []
    },
    {
      "cell_type": "code",
      "metadata": {
        "id": "9o2iuX1rhbov"
      },
      "source": [
        "n_features = SELECTED_FEATURES_COL\n",
        "kolom_umur = n_features.pop(1)\n",
        "# print(kolom_umur)"
      ],
      "execution_count": null,
      "outputs": []
    },
    {
      "cell_type": "code",
      "metadata": {
        "id": "3ZgGMgbqheXR"
      },
      "source": [
        "correlation_list={}\n",
        "for index in n_features:\n",
        "  dataCorrelation = df[[index,kolom_umur]]\n",
        "  temp1 = dataCorrelation[index].values\n",
        "  temp2 = dataCorrelation[kolom_umur].values\n",
        "  key = index\n",
        "  correlation_list[key] = pearsonr(temp1,temp2)[0]"
      ],
      "execution_count": null,
      "outputs": []
    },
    {
      "cell_type": "code",
      "metadata": {
        "colab": {
          "base_uri": "https://localhost:8080/"
        },
        "id": "2d45Xlv8hgPQ",
        "outputId": "cea4dadf-3d86-4d78-fb5c-367c34ce84a7"
      },
      "source": [
        "# Urutkan korelasi terhadap umur\n",
        "data_correlation = pd.DataFrame(correlation_list, index=['Value']).T\n",
        "sorted_data_correlation = data_correlation.loc[data_correlation['Value'].abs().sort_values(ascending=False).index]\n",
        "sorted_data_correlation"
      ],
      "execution_count": null,
      "outputs": [
        {
          "output_type": "execute_result",
          "data": {
            "text/html": [
              "<div>\n",
              "<style scoped>\n",
              "    .dataframe tbody tr th:only-of-type {\n",
              "        vertical-align: middle;\n",
              "    }\n",
              "\n",
              "    .dataframe tbody tr th {\n",
              "        vertical-align: top;\n",
              "    }\n",
              "\n",
              "    .dataframe thead th {\n",
              "        text-align: right;\n",
              "    }\n",
              "</style>\n",
              "<table border=\"1\" class=\"dataframe\">\n",
              "  <thead>\n",
              "    <tr style=\"text-align: right;\">\n",
              "      <th></th>\n",
              "      <th>Value</th>\n",
              "    </tr>\n",
              "  </thead>\n",
              "  <tbody>\n",
              "    <tr>\n",
              "      <th>Umur_Kendaraan</th>\n",
              "      <td>0.702808</td>\n",
              "    </tr>\n",
              "    <tr>\n",
              "      <th>Kanal_Penjualan</th>\n",
              "      <td>-0.540762</td>\n",
              "    </tr>\n",
              "    <tr>\n",
              "      <th>Kendaraan_Rusak</th>\n",
              "      <td>0.247780</td>\n",
              "    </tr>\n",
              "    <tr>\n",
              "      <th>Sudah_Asuransi</th>\n",
              "      <td>-0.235650</td>\n",
              "    </tr>\n",
              "    <tr>\n",
              "      <th>Jenis_Kelamin</th>\n",
              "      <td>-0.135621</td>\n",
              "    </tr>\n",
              "    <tr>\n",
              "      <th>SIM</th>\n",
              "      <td>-0.075347</td>\n",
              "    </tr>\n",
              "    <tr>\n",
              "      <th>Premi</th>\n",
              "      <td>0.048625</td>\n",
              "    </tr>\n",
              "    <tr>\n",
              "      <th>Kode_Daerah</th>\n",
              "      <td>0.040870</td>\n",
              "    </tr>\n",
              "    <tr>\n",
              "      <th>Lama_Berlangganan</th>\n",
              "      <td>0.000146</td>\n",
              "    </tr>\n",
              "  </tbody>\n",
              "</table>\n",
              "</div>"
            ],
            "text/plain": [
              "                      Value\n",
              "Umur_Kendaraan     0.702808\n",
              "Kanal_Penjualan   -0.540762\n",
              "Kendaraan_Rusak    0.247780\n",
              "Sudah_Asuransi    -0.235650\n",
              "Jenis_Kelamin     -0.135621\n",
              "SIM               -0.075347\n",
              "Premi              0.048625\n",
              "Kode_Daerah        0.040870\n",
              "Lama_Berlangganan  0.000146"
            ]
          },
          "metadata": {},
          "execution_count": 28
        }
      ]
    },
    {
      "cell_type": "markdown",
      "metadata": {
        "id": "imIBqvph_9MU"
      },
      "source": [
        "# **==================================================================**\n",
        "# **=========WE'RE GOING TO ENTERING MAIN PROGRAM=====================**\n",
        "# **==================================================================**\n"
      ]
    },
    {
      "cell_type": "markdown",
      "metadata": {
        "id": "EezblhV8c_Je"
      },
      "source": [
        "# K-MEANS ALGORITHM"
      ]
    },
    {
      "cell_type": "code",
      "metadata": {
        "id": "mGaqsip6qxke"
      },
      "source": [
        "def eucli_dist(a,b):\n",
        "    return np.sqrt(np.sum((a - b) ** 2))\n",
        "\n",
        "class K_Means:\n",
        "    def __init__(self, K, max_iters=100):\n",
        "        # inisialisasi constructor nya\n",
        "        # pada self.clusters, berisi sebuah array object kosong, contohnya adalah {0 : [] , 1:[]...dst}\n",
        "        self.K = K\n",
        "        self.max_iters = max_iters\n",
        "        self.clusters =[[] for _ in range(self.K)]\n",
        "        self.centorids = []\n",
        "       \n",
        "    def fit(self, X):\n",
        "        if not isinstance(X, np.ndarray):\n",
        "            X = np.array(X)\n",
        "\n",
        "        if X.size == 0:\n",
        "            raise ValueError(\"Number of features must be > 0\")\n",
        "\n",
        "        if X.ndim == 1:\n",
        "            self.n_samples, self.n_features = 1, X.shape\n",
        "        else:\n",
        "            self.n_samples, self.n_features = X.shape[0], np.prod(X.shape[1:])\n",
        "\n",
        "        self.X = X\n",
        "\n",
        "        # Inisialisasi centroids memakai fungsi diatas\n",
        "        random_centroid_samples = np.random.choice(self.n_samples, self.K, replace=False)\n",
        "        self.centroids = [self.X[index] for index in random_centroid_samples]\n",
        "        # self._initializeCentroid(self.init)\n",
        "        # centroids = self.centroids\n",
        "      \n",
        "        # loop dibawah untuk optimisasi clusters sebanyak max_iters\n",
        "        for _ in range(self.max_iters):\n",
        "          # memasukkan centroid ke kumpulan clusters\n",
        "          self.clusters = self._assignValue(self.centroids)\n",
        "          centroids_old = self.centroids\n",
        "          # mengambil centroid dari kumpulan clusters\n",
        "          self.centroids = self._getCentroid(self.clusters)\n",
        "\n",
        "          if self._isConverged(centroids_old, self.centroids):\n",
        "            break\n",
        "        \n",
        "        return self.getClusterLabel()\n",
        "\n",
        "    def _assignValue(self, centroids):\n",
        "        clusters = [[] for _ in range(self.K)]\n",
        "        for idx, sample in enumerate(self.X):\n",
        "            centroid_idx = self._predict(sample, centroids)\n",
        "            clusters[centroid_idx].append(idx)\n",
        "        return clusters\n",
        "    \n",
        "    def _predict(self, sampleValue, centroids):\n",
        "      # memperkirakan jarak centroid terdekat dengan euclidean distances.\n",
        "        distances = [eucli_dist(sampleValue, point) for point in centroids]\n",
        "        closest_index = np.argmin(distances)\n",
        "        return closest_index\n",
        "\n",
        "    def _getCentroid(self,clusters):\n",
        "        centroids = np.zeros((self.K, self.n_features))\n",
        "        for indexCluster, clusterValue in enumerate(clusters):\n",
        "          clustersMean = np.mean(self.X[clusterValue], axis=0)\n",
        "          centroids[indexCluster] = clustersMean\n",
        "        return centroids\n",
        "\n",
        "    def getClusterLabel(self):\n",
        "        labels = np.empty(self.n_samples)\n",
        "\n",
        "        for indexOne, cluster in enumerate(self.clusters):\n",
        "          for indexTwo in cluster:\n",
        "            labels[indexTwo] = indexOne\n",
        "        return labels\n",
        "    \n",
        "    def _isConverged(self, centroidsOld , centroids):\n",
        "        # Menghitung jarak dari centroids lama ke centroid baru UNTUK SEMUA centroids yang ada.\n",
        "        distances = [\n",
        "            eucli_dist(centroidsOld[i], centroids[i]) for i in range(self.K)\n",
        "        ]\n",
        "\n",
        "        return sum(distances) == 0\n",
        "\n",
        "    def _distFromCenter(self):\n",
        "        return np.array([min([eucli_dist(xValue, centroid) for centroid in self.centroids]) for xValue in self.X])\n",
        "\n",
        "    def _chooseNextCenterValue(self):\n",
        "        distance = self._distFromCenter()\n",
        "        distance2 = distance ** 2\n",
        "        probability = distance2 / distance2.sum()\n",
        "        index = np.random.choice(self.X.shape[0], 1, p=probability)[0]\n",
        "\n",
        "        return self.X[index]\n",
        "\n",
        "    def showPlot(self, ax=None, holdon=False):\n",
        "        sns.set(style=\"darkgrid\")\n",
        "        palette = sns.color_palette(\"hls\", self.K + 1)\n",
        "        data = self.X\n",
        "\n",
        "        if ax is None:\n",
        "            _, ax = plt.subplots(figsize=(12, 8))\n",
        "\n",
        "        for i, index in enumerate(self.clusters):\n",
        "            point = np.array(data[index]).T\n",
        "            ax.scatter(*point, c=[palette[i], ])\n",
        "\n",
        "        for point in self.centroids:\n",
        "            ax.scatter(*point, marker=\"x\", s=500, color=\"black\", linewidths=10)\n",
        "\n",
        "        if not holdon:\n",
        "            plt.show()"
      ],
      "execution_count": null,
      "outputs": []
    },
    {
      "cell_type": "markdown",
      "metadata": {
        "id": "s49uReuRe9zn"
      },
      "source": [
        "# MAIN PROGRAM"
      ]
    },
    {
      "cell_type": "code",
      "metadata": {
        "id": "cPfw5YYPtXvm"
      },
      "source": [
        "SELECTED_FEATURE = ['Umur','Kanal_Penjualan']"
      ],
      "execution_count": null,
      "outputs": []
    },
    {
      "cell_type": "code",
      "metadata": {
        "colab": {
          "base_uri": "https://localhost:8080/",
          "height": 408
        },
        "id": "-L8QJwAEvP3y",
        "outputId": "0e403536-d32e-4070-90a9-20f348352935"
      },
      "source": [
        "clean_data = df[SELECTED_FEATURE]\n",
        "clean_data"
      ],
      "execution_count": null,
      "outputs": [
        {
          "output_type": "execute_result",
          "data": {
            "text/html": [
              "<div>\n",
              "<style scoped>\n",
              "    .dataframe tbody tr th:only-of-type {\n",
              "        vertical-align: middle;\n",
              "    }\n",
              "\n",
              "    .dataframe tbody tr th {\n",
              "        vertical-align: top;\n",
              "    }\n",
              "\n",
              "    .dataframe thead th {\n",
              "        text-align: right;\n",
              "    }\n",
              "</style>\n",
              "<table border=\"1\" class=\"dataframe\">\n",
              "  <thead>\n",
              "    <tr style=\"text-align: right;\">\n",
              "      <th></th>\n",
              "      <th>Umur</th>\n",
              "      <th>Kanal_Penjualan</th>\n",
              "    </tr>\n",
              "  </thead>\n",
              "  <tbody>\n",
              "    <tr>\n",
              "      <th>0</th>\n",
              "      <td>-0.584256</td>\n",
              "      <td>0.708419</td>\n",
              "    </tr>\n",
              "    <tr>\n",
              "      <th>1</th>\n",
              "      <td>0.604626</td>\n",
              "      <td>-1.590067</td>\n",
              "    </tr>\n",
              "    <tr>\n",
              "      <th>2</th>\n",
              "      <td>-1.178696</td>\n",
              "      <td>0.857914</td>\n",
              "    </tr>\n",
              "    <tr>\n",
              "      <th>3</th>\n",
              "      <td>1.265115</td>\n",
              "      <td>0.185186</td>\n",
              "    </tr>\n",
              "    <tr>\n",
              "      <th>4</th>\n",
              "      <td>0.736724</td>\n",
              "      <td>-0.487541</td>\n",
              "    </tr>\n",
              "    <tr>\n",
              "      <th>...</th>\n",
              "      <td>...</td>\n",
              "      <td>...</td>\n",
              "    </tr>\n",
              "    <tr>\n",
              "      <th>285826</th>\n",
              "      <td>-1.046598</td>\n",
              "      <td>0.708419</td>\n",
              "    </tr>\n",
              "    <tr>\n",
              "      <th>285827</th>\n",
              "      <td>-1.178696</td>\n",
              "      <td>0.708419</td>\n",
              "    </tr>\n",
              "    <tr>\n",
              "      <th>285828</th>\n",
              "      <td>-1.046598</td>\n",
              "      <td>0.708419</td>\n",
              "    </tr>\n",
              "    <tr>\n",
              "      <th>285829</th>\n",
              "      <td>1.925605</td>\n",
              "      <td>0.185186</td>\n",
              "    </tr>\n",
              "    <tr>\n",
              "      <th>285830</th>\n",
              "      <td>0.406479</td>\n",
              "      <td>-1.646127</td>\n",
              "    </tr>\n",
              "  </tbody>\n",
              "</table>\n",
              "<p>284331 rows × 2 columns</p>\n",
              "</div>"
            ],
            "text/plain": [
              "            Umur  Kanal_Penjualan\n",
              "0      -0.584256         0.708419\n",
              "1       0.604626        -1.590067\n",
              "2      -1.178696         0.857914\n",
              "3       1.265115         0.185186\n",
              "4       0.736724        -0.487541\n",
              "...          ...              ...\n",
              "285826 -1.046598         0.708419\n",
              "285827 -1.178696         0.708419\n",
              "285828 -1.046598         0.708419\n",
              "285829  1.925605         0.185186\n",
              "285830  0.406479        -1.646127\n",
              "\n",
              "[284331 rows x 2 columns]"
            ]
          },
          "metadata": {},
          "execution_count": 31
        }
      ]
    },
    {
      "cell_type": "code",
      "metadata": {
        "colab": {
          "base_uri": "https://localhost:8080/",
          "height": 485
        },
        "id": "vdEBR73puKGK",
        "outputId": "dcdbb133-81e0-4d84-bab4-4cdc364fb699"
      },
      "source": [
        "kmean = K_Means(K=3, max_iters=100)\n",
        "y_pred = kmean.fit(clean_data)\n",
        "kmean.showPlot()"
      ],
      "execution_count": null,
      "outputs": [
        {
          "output_type": "display_data",
          "data": {
            "image/png": "[encoded data removed]",
            "text/plain": [
              "<Figure size 864x576 with 1 Axes>"
            ]
          },
          "metadata": {}
        }
      ]
    },
    {
      "cell_type": "markdown",
      "metadata": {
        "id": "3oa0nVaPrad8"
      },
      "source": [
        "# EVALUATION\n"
      ]
    },
    {
      "cell_type": "markdown",
      "metadata": {
        "id": "lLDZrnH3QkoP"
      },
      "source": [
        ""
      ]
    },
    {
      "cell_type": "code",
      "metadata": {
        "id": "kagFj2hArq-K"
      },
      "source": [
        "from sklearn.cluster import KMeans\n",
        "    "
      ],
      "execution_count": null,
      "outputs": []
    },
    {
      "cell_type": "code",
      "metadata": {
        "colab": {
          "base_uri": "https://localhost:8080/",
          "height": 570
        },
        "id": "nnMtRReYxcDe",
        "outputId": "0ab62fda-5644-464f-ee9f-4d7c026dd62f"
      },
      "source": [
        "WCSS = []\n",
        "\n",
        "K = range(1,10)\n",
        "\n",
        "for i in K:\n",
        "    kmeans = KMeans(n_clusters = i, init = 'k-means++', random_state = 50)\n",
        "    kmeans.fit(clean_data)\n",
        "    WCSS.append(kmeans.inertia_)\n",
        "\n",
        "plt.figure(figsize=(12,8))\n",
        "sns.lineplot(range(1,10), WCSS,marker='o',color='blue')\n",
        "plt.title('Elbow Method')\n",
        "plt.xlabel('Clusters')\n",
        "plt.ylabel('WCSS')\n",
        "plt.show()"
      ],
      "execution_count": null,
      "outputs": [
        {
          "output_type": "stream",
          "name": "stderr",
          "text": [
            "/usr/local/lib/python3.7/dist-packages/seaborn/_decorators.py:43: FutureWarning: Pass the following variables as keyword args: x, y. From version 0.12, the only valid positional argument will be `data`, and passing other arguments without an explicit keyword will result in an error or misinterpretation.\n",
            "  FutureWarning\n"
          ]
        },
        {
          "output_type": "display_data",
          "data": {
            "image/png": "[encoded data removed]",
            "text/plain": [
              "<Figure size 864x576 with 1 Axes>"
            ]
          },
          "metadata": {}
        }
      ]
    },
    {
      "cell_type": "markdown",
      "metadata": {
        "id": "YQT3q0J8QlZh"
      },
      "source": [
        "# EXPERIMENT"
      ]
    },
    {
      "cell_type": "code",
      "metadata": {
        "colab": {
          "base_uri": "https://localhost:8080/",
          "height": 485
        },
        "id": "3ZUWO36PRIAX",
        "outputId": "593a7b8f-0b5d-4342-b3cb-4a8cef4a8058"
      },
      "source": [
        "kmean3 = K_Means(K=3, max_iters=100)\n",
        "pred3 = kmean3.fit(clean_data)\n",
        "kmean3.showPlot()"
      ],
      "execution_count": null,
      "outputs": [
        {
          "output_type": "display_data",
          "data": {
            "image/png": "[encoded data removed]",
            "text/plain": [
              "<Figure size 864x576 with 1 Axes>"
            ]
          },
          "metadata": {}
        }
      ]
    },
    {
      "cell_type": "code",
      "metadata": {
        "colab": {
          "base_uri": "https://localhost:8080/",
          "height": 485
        },
        "id": "mdNjUG2uRR2L",
        "outputId": "6765980e-01a6-4d5f-c6fb-4cbc023f4ddb"
      },
      "source": [
        "kmean4 = K_Means(K=4, max_iters=100)\n",
        "pred4 = kmean4.fit(clean_data)\n",
        "kmean4.showPlot()"
      ],
      "execution_count": null,
      "outputs": [
        {
          "output_type": "display_data",
          "data": {
            "image/png": "[encoded data removed]",
            "text/plain": [
              "<Figure size 864x576 with 1 Axes>"
            ]
          },
          "metadata": {}
        }
      ]
    }
  ]
}